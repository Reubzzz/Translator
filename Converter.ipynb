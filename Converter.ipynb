{
 "cells": [
  {
   "cell_type": "code",
   "execution_count": 4,
   "metadata": {},
   "outputs": [],
   "source": [
    "#libraries used\n",
    "import numpy as np\n",
    "import laspy \n",
    "import matplotlib.pyplot as plt\n",
    "import open3d as o3d\n",
    "import PySimpleGUI as sg\n"
   ]
  },
  {
   "cell_type": "code",
   "execution_count": 5,
   "metadata": {},
   "outputs": [
    {
     "name": "stdout",
     "output_type": "stream",
     "text": [
      "D:/Reubens backup/Program Developer/Thrill Capital/Translator/Program/utar/UtarMap1.las\n",
      "D:/Reubens backup/Program Developer/Thrill Capital/Translator/Program/utar/UtarMap1.las\n",
      "D:/Reubens backup/Program Developer/Thrill Capital/Translator/Program/utar/UtarMap1.las\n",
      "D:/Reubens backup/Program Developer/Thrill Capital/Translator/Program/utar/UtarMap1.las\n"
     ]
    }
   ],
   "source": [
    "#GUI for searching for file to read .LAS\n",
    "sg.theme(\"DarkTeal2\")\n",
    "layout = [[sg.T(\"\")], [sg.Text(\"Choose a folder: \"), sg.Input(key=\"-IN2-\" ,change_submits=True), sg.FileBrowse(key=\"-IN-\")],[sg.Button(\"Submit\"),[sg.Button(\"Exit\")]]]\n",
    "\n",
    "###Building Window\n",
    "window = sg.Window('My File Browser', layout, size=(600,150))\n",
    "\n",
    "def Close():\n",
    "        window.close()\n",
    "        print(data)\n",
    "  \n",
    "\n",
    "while True:\n",
    "    event, values = window.read()\n",
    "    print(values[\"-IN2-\"])\n",
    "    if event == sg.WIN_CLOSED or event==\"Exit\":\n",
    "        window.close()\n",
    "        break\n",
    "    elif event == \"Submit\":\n",
    "        print(values[\"-IN-\"])\n",
    "        savedata = (values[\"-IN-\"])\n",
    "        data = values[\"-IN-\"]\n",
    "        Close()\n",
    "        break\n",
    "        \n",
    "\n",
    "            \n",
    "\n"
   ]
  },
  {
   "cell_type": "code",
   "execution_count": 6,
   "metadata": {},
   "outputs": [
    {
     "name": "stdout",
     "output_type": "stream",
     "text": [
      "D:/Reubens backup/Program Developer/Thrill Capital/Translator/Program/utar/UtarMap1.las\n"
     ]
    }
   ],
   "source": [
    "print (savedata)"
   ]
  },
  {
   "cell_type": "code",
   "execution_count": 7,
   "metadata": {},
   "outputs": [],
   "source": [
    "#path set to .LAS File\n",
    "dataname=data\n",
    "point_cloud= laspy.read(dataname)"
   ]
  },
  {
   "cell_type": "code",
   "execution_count": 8,
   "metadata": {},
   "outputs": [
    {
     "name": "stdout",
     "output_type": "stream",
     "text": [
      "the ponts\n",
      "[[ 43949208 446099992    144641]\n",
      " [ 43949193 446099961    144571]\n",
      " [ 43949231 446099986    144586]\n",
      " ...\n",
      " [ 44013796 446108658    144991]\n",
      " [ 44013961 446108645    145009]\n",
      " [ 44013982 446108610    145002]]\n",
      "the colors\n",
      "[[0.3 0.3 0.3]\n",
      " [0.3 0.3 0.3]\n",
      " [0.3 0.3 0.3]\n",
      " ...\n",
      " [0.3 0.3 0.3]\n",
      " [0.3 0.3 0.3]\n",
      " [0.3 0.3 0.3]]\n"
     ]
    }
   ],
   "source": [
    "\n",
    "# Open a file in read mode:\n",
    "inFile = point_cloud\n",
    "\n",
    "# Grab a numpy dataset of our clustering dimensions:\n",
    "dataset = np.vstack([inFile.X, inFile.Y, inFile.Z]).transpose()\n",
    "colors = np.vstack([inFile.red, inFile.green, inFile.blue]).transpose()\n",
    "\n",
    "#setting the colors of the pointcloud data to between 1 and 0\n",
    "colors = colors / 255 / 255\n",
    "colors = np.round(colors, 1)\n",
    "\n",
    "print(\"the ponts\")\n",
    "print(dataset)\n",
    "print(\"the colors\")\n",
    "print(colors)\n",
    "\n"
   ]
  },
  {
   "cell_type": "code",
   "execution_count": null,
   "metadata": {},
   "outputs": [],
   "source": [
    "# Pass xyz and RGB to Open3D.o3d.geometry.PointCloud \n",
    "\n",
    "pcd = o3d.geometry.PointCloud()\n",
    "\n",
    "pcd.points = o3d.utility.Vector3dVector(dataset)\n",
    "\n",
    "pcd.colors = o3d.utility.Vector3dVector(colors) \n",
    "\n",
    "\n",
    "pcd.estimate_normals(search_param=o3d.geometry.KDTreeSearchParamHybrid(radius=0.1, max_nn=30))\n",
    "\n",
    "print (pcd)\n",
    "\n",
    "print(np.all(np.isfinite(np.asarray(pcd.colors))))\n"
   ]
  },
  {
   "cell_type": "code",
   "execution_count": null,
   "metadata": {},
   "outputs": [],
   "source": [
    "#Creating the Triangles and Vertices For a Mesh.\n",
    "mesh = o3d.geometry.TriangleMesh.create_from_point_cloud_ball_pivoting (pcd, o3d.utility.DoubleVector([1,2,3,4]))\n",
    "\n",
    "\n",
    "\n",
    "\n",
    "print(\"The Vertices\")\n",
    "print(np.asarray(mesh.vertices))\n",
    "print(\"The Triangles\")\n",
    "print(np.asarray(mesh.triangles))\n",
    "print(\"The Colors\")\n",
    "print(np.asarray(pcd.colors))\n",
    "print(\"The Points\")\n",
    "print(np.asarray(pcd.points))\n",
    "\n",
    "mesh = o3d.geometry.TriangleMesh.compute_triangle_normals (mesh)"
   ]
  },
  {
   "cell_type": "code",
   "execution_count": null,
   "metadata": {},
   "outputs": [],
   "source": [
    "#Shaping the quality of the mesh (Rendering)\n",
    "\n",
    "mesh = mesh.filter_sharpen(number_of_iterations=1, strength=0.010)"
   ]
  },
  {
   "cell_type": "code",
   "execution_count": null,
   "metadata": {},
   "outputs": [],
   "source": [
    "#write .LAS file of PCD or PLY or PTS OR XYZRGB\n",
    "\n",
    "o3d.io.write_point_cloud(\"../utar/test.ply\", pcd, write_ascii=False)"
   ]
  },
  {
   "cell_type": "code",
   "execution_count": null,
   "metadata": {},
   "outputs": [],
   "source": [
    "#Reading file of PCD or PLY or PTS OR XYZRGB\n",
    "\n",
    "testing = o3d.io.read_point_cloud(\"../utar/test.ply\")\n",
    "print(np.asarray(testing.points))\n",
    "print(np.asarray(testing.colors))\n"
   ]
  },
  {
   "cell_type": "code",
   "execution_count": null,
   "metadata": {},
   "outputs": [],
   "source": [
    "#writing the .LAS to a mesh.\n",
    "o3d.io.write_triangle_mesh(\"../utar/meshes.ply\", mesh)"
   ]
  },
  {
   "cell_type": "code",
   "execution_count": null,
   "metadata": {},
   "outputs": [],
   "source": [
    "#Reading the Mesh\n",
    "testing = o3d.io.read_point_cloud(\"../utar/meshes.ply\")\n",
    "print(np.asarray(testing.points))\n",
    "print(np.asarray(testing.colors))"
   ]
  }
 ],
 "metadata": {
  "interpreter": {
   "hash": "7b023e6552f5711e0589661c7294916099242504d71aadf938acd5e8f8391b53"
  },
  "kernelspec": {
   "display_name": "Python 3.9.12 64-bit (windows store)",
   "language": "python",
   "name": "python3"
  },
  "language_info": {
   "codemirror_mode": {
    "name": "ipython",
    "version": 3
   },
   "file_extension": ".py",
   "mimetype": "text/x-python",
   "name": "python",
   "nbconvert_exporter": "python",
   "pygments_lexer": "ipython3",
   "version": "3.9.12"
  },
  "orig_nbformat": 4
 },
 "nbformat": 4,
 "nbformat_minor": 2
}
