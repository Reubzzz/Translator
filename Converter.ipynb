{
 "cells": [
  {
   "cell_type": "code",
   "execution_count": 1,
   "metadata": {},
   "outputs": [
    {
     "name": "stdout",
     "output_type": "stream",
     "text": [
      "Jupyter environment detected. Enabling Open3D WebVisualizer.\n",
      "[Open3D INFO] WebRTC GUI backend enabled.\n",
      "[Open3D INFO] WebRTCWindowSystem: HTTP handshake server disabled.\n"
     ]
    }
   ],
   "source": [
    "#libraries used\n",
    "import numpy as np\n",
    "import laspy \n",
    "import matplotlib.pyplot as plt\n",
    "import open3d as o3d\n"
   ]
  },
  {
   "cell_type": "code",
   "execution_count": 2,
   "metadata": {},
   "outputs": [],
   "source": [
    "#path set to .LAS File\n",
    "\n",
    "input_path=\"../utar/\"\n",
    "output_path=\"../Converter/\"\n",
    "dataname=\"UtarMap1\"\n",
    "point_cloud= laspy.read(input_path+dataname+\".las\")"
   ]
  },
  {
   "cell_type": "code",
   "execution_count": 3,
   "metadata": {},
   "outputs": [
    {
     "name": "stdout",
     "output_type": "stream",
     "text": [
      "the ponts\n",
      "[[ 43949208 446099992    144641]\n",
      " [ 43949193 446099961    144571]\n",
      " [ 43949231 446099986    144586]\n",
      " ...\n",
      " [ 44013796 446108658    144991]\n",
      " [ 44013961 446108645    145009]\n",
      " [ 44013982 446108610    145002]]\n",
      "the colors\n",
      "[[0.3 0.3 0.3]\n",
      " [0.3 0.3 0.3]\n",
      " [0.3 0.3 0.3]\n",
      " ...\n",
      " [0.3 0.3 0.3]\n",
      " [0.3 0.3 0.3]\n",
      " [0.3 0.3 0.3]]\n"
     ]
    }
   ],
   "source": [
    "\n",
    "# Open a file in read mode:\n",
    "inFile = point_cloud\n",
    "\n",
    "# Grab a numpy dataset of our clustering dimensions:\n",
    "dataset = np.vstack([inFile.X, inFile.Y, inFile.Z]).transpose()\n",
    "colors = np.vstack([inFile.red, inFile.green, inFile.blue]).transpose()\n",
    "\n",
    "#setting the colors of the pointcloud data to between 1 and 0\n",
    "colors = colors / 255 / 255\n",
    "colors = np.round(colors, 1)\n",
    "\n",
    "print(\"the ponts\")\n",
    "print(dataset)\n",
    "print(\"the colors\")\n",
    "print(colors)\n",
    "\n"
   ]
  },
  {
   "cell_type": "code",
   "execution_count": 4,
   "metadata": {},
   "outputs": [
    {
     "name": "stdout",
     "output_type": "stream",
     "text": [
      "PointCloud with 12613322 points.\n",
      "True\n"
     ]
    }
   ],
   "source": [
    "# Pass xyz and RGB to Open3D.o3d.geometry.PointCloud \n",
    "\n",
    "pcd = o3d.geometry.PointCloud()\n",
    "\n",
    "pcd.points = o3d.utility.Vector3dVector(dataset)\n",
    "\n",
    "pcd.colors = o3d.utility.Vector3dVector(colors) \n",
    "\n",
    "\n",
    "pcd.estimate_normals(search_param=o3d.geometry.KDTreeSearchParamHybrid(radius=0.1, max_nn=30))\n",
    "\n",
    "print (pcd)\n",
    "\n",
    "print(np.all(np.isfinite(np.asarray(pcd.colors))))\n"
   ]
  },
  {
   "cell_type": "code",
   "execution_count": 5,
   "metadata": {},
   "outputs": [
    {
     "name": "stdout",
     "output_type": "stream",
     "text": [
      "The Vertices\n",
      "[[4.39492080e+07 4.46099992e+08 1.44641000e+05]\n",
      " [4.39491930e+07 4.46099961e+08 1.44571000e+05]\n",
      " [4.39492310e+07 4.46099986e+08 1.44586000e+05]\n",
      " ...\n",
      " [4.40137960e+07 4.46108658e+08 1.44991000e+05]\n",
      " [4.40139610e+07 4.46108645e+08 1.45009000e+05]\n",
      " [4.40139820e+07 4.46108610e+08 1.45002000e+05]]\n",
      "The Triangles\n",
      "[[  712845  6323926  5133856]\n",
      " [ 2262346  3903491  6776735]\n",
      " [10676588 11862652 12241339]]\n",
      "The Colors\n",
      "[[0.3 0.3 0.3]\n",
      " [0.3 0.3 0.3]\n",
      " [0.3 0.3 0.3]\n",
      " ...\n",
      " [0.3 0.3 0.3]\n",
      " [0.3 0.3 0.3]\n",
      " [0.3 0.3 0.3]]\n",
      "The Points\n",
      "[[4.39492080e+07 4.46099992e+08 1.44641000e+05]\n",
      " [4.39491930e+07 4.46099961e+08 1.44571000e+05]\n",
      " [4.39492310e+07 4.46099986e+08 1.44586000e+05]\n",
      " ...\n",
      " [4.40137960e+07 4.46108658e+08 1.44991000e+05]\n",
      " [4.40139610e+07 4.46108645e+08 1.45009000e+05]\n",
      " [4.40139820e+07 4.46108610e+08 1.45002000e+05]]\n"
     ]
    }
   ],
   "source": [
    "#Creating the Triangles and Vertices For a Mesh.\n",
    "mesh = o3d.geometry.TriangleMesh.create_from_point_cloud_ball_pivoting (pcd, o3d.utility.DoubleVector([1,2,3,4]))\n",
    "\n",
    "\n",
    "\n",
    "\n",
    "print(\"The Vertices\")\n",
    "print(np.asarray(mesh.vertices))\n",
    "print(\"The Triangles\")\n",
    "print(np.asarray(mesh.triangles))\n",
    "print(\"The Colors\")\n",
    "print(np.asarray(pcd.colors))\n",
    "print(\"The Points\")\n",
    "print(np.asarray(pcd.points))\n",
    "\n",
    "mesh = o3d.geometry.TriangleMesh.compute_triangle_normals (mesh)"
   ]
  },
  {
   "cell_type": "code",
   "execution_count": 6,
   "metadata": {},
   "outputs": [],
   "source": [
    "#Shaping the quality of the mesh (Rendering)\n",
    "\n",
    "mesh = mesh.filter_sharpen(number_of_iterations=1, strength=0.010)"
   ]
  },
  {
   "cell_type": "code",
   "execution_count": 7,
   "metadata": {},
   "outputs": [
    {
     "data": {
      "text/plain": [
       "True"
      ]
     },
     "execution_count": 7,
     "metadata": {},
     "output_type": "execute_result"
    }
   ],
   "source": [
    "#write .LAS file of PCD or PLY or PTS OR XYZRGB\n",
    "\n",
    "o3d.io.write_point_cloud(\"../utar/test.ply\", pcd, write_ascii=False)"
   ]
  },
  {
   "cell_type": "code",
   "execution_count": 8,
   "metadata": {},
   "outputs": [
    {
     "name": "stdout",
     "output_type": "stream",
     "text": [
      "[[4.39492080e+07 4.46099992e+08 1.44641000e+05]\n",
      " [4.39491930e+07 4.46099961e+08 1.44571000e+05]\n",
      " [4.39492310e+07 4.46099986e+08 1.44586000e+05]\n",
      " ...\n",
      " [4.40137960e+07 4.46108658e+08 1.44991000e+05]\n",
      " [4.40139610e+07 4.46108645e+08 1.45009000e+05]\n",
      " [4.40139820e+07 4.46108610e+08 1.45002000e+05]]\n",
      "[[0.30196078 0.30196078 0.30196078]\n",
      " [0.30196078 0.30196078 0.30196078]\n",
      " [0.30196078 0.30196078 0.30196078]\n",
      " ...\n",
      " [0.30196078 0.30196078 0.30196078]\n",
      " [0.30196078 0.30196078 0.30196078]\n",
      " [0.30196078 0.30196078 0.30196078]]\n"
     ]
    }
   ],
   "source": [
    "#Reading file of PCD or PLY or PTS OR XYZRGB\n",
    "\n",
    "testing = o3d.io.read_point_cloud(\"../utar/test.ply\")\n",
    "print(np.asarray(testing.points))\n",
    "print(np.asarray(testing.colors))\n"
   ]
  },
  {
   "cell_type": "code",
   "execution_count": 9,
   "metadata": {},
   "outputs": [
    {
     "data": {
      "text/plain": [
       "True"
      ]
     },
     "execution_count": 9,
     "metadata": {},
     "output_type": "execute_result"
    }
   ],
   "source": [
    "#writing the .LAS to a mesh.\n",
    "o3d.io.write_triangle_mesh(\"../utar/meshes.ply\", mesh)"
   ]
  },
  {
   "cell_type": "code",
   "execution_count": 10,
   "metadata": {},
   "outputs": [
    {
     "name": "stdout",
     "output_type": "stream",
     "text": [
      "[[4.39492080e+07 4.46099992e+08 1.44641000e+05]\n",
      " [4.39491930e+07 4.46099961e+08 1.44571000e+05]\n",
      " [4.39492310e+07 4.46099986e+08 1.44586000e+05]\n",
      " ...\n",
      " [4.40137960e+07 4.46108658e+08 1.44991000e+05]\n",
      " [4.40139610e+07 4.46108645e+08 1.45009000e+05]\n",
      " [4.40139820e+07 4.46108610e+08 1.45002000e+05]]\n",
      "[[0.30196078 0.30196078 0.30196078]\n",
      " [0.30196078 0.30196078 0.30196078]\n",
      " [0.30196078 0.30196078 0.30196078]\n",
      " ...\n",
      " [0.30196078 0.30196078 0.30196078]\n",
      " [0.30196078 0.30196078 0.30196078]\n",
      " [0.30196078 0.30196078 0.30196078]]\n"
     ]
    }
   ],
   "source": [
    "#Reading the Mesh\n",
    "testing = o3d.io.read_point_cloud(\"../utar/meshes.ply\")\n",
    "print(np.asarray(testing.points))\n",
    "print(np.asarray(testing.colors))"
   ]
  }
 ],
 "metadata": {
  "interpreter": {
   "hash": "7b023e6552f5711e0589661c7294916099242504d71aadf938acd5e8f8391b53"
  },
  "kernelspec": {
   "display_name": "Python 3.9.12 64-bit (windows store)",
   "language": "python",
   "name": "python3"
  },
  "language_info": {
   "codemirror_mode": {
    "name": "ipython",
    "version": 3
   },
   "file_extension": ".py",
   "mimetype": "text/x-python",
   "name": "python",
   "nbconvert_exporter": "python",
   "pygments_lexer": "ipython3",
   "version": "3.9.12"
  },
  "orig_nbformat": 4
 },
 "nbformat": 4,
 "nbformat_minor": 2
}
